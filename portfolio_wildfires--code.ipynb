#yeux = 'now'

plt.style.use('bmh')
rcParams['axes.facecolor'] = 'lavender'
rcParams['figure.facecolor'] = 'lightsteelblue'

tps_ss = dt.datetime.now()
if (tps_ss.hour, tps_ss.minute)<(7, 00) or (tps_ss.hour, tps_ss.minute)>(20, 40) or ('')=='now':
    set(style = "ticks", context="talk")
    rcParams['axes.facecolor']='#363E59'
    rcParams['figure.facecolor']='k'
    rcParams['xtick.color']='lavender'
    rcParams['ytick.color']='lavender'
    rcParams['hatch.color']='lavender'
    rcParams['axes.titlecolor']='lavender'
